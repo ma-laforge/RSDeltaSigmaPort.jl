{
 "cells": [
  {
   "cell_type": "markdown",
   "id": "gorgeous-belle",
   "metadata": {},
   "source": [
    "# Query environment"
   ]
  },
  {
   "cell_type": "code",
   "execution_count": null,
   "id": "alpha-ballot",
   "metadata": {},
   "outputs": [],
   "source": [
    "#Be aware of your Jupyter environment stack:\n",
    "display(Base.load_path())"
   ]
  },
  {
   "cell_type": "markdown",
   "id": "ancient-candle",
   "metadata": {},
   "source": [
    "# Setup environment"
   ]
  },
  {
   "cell_type": "code",
   "execution_count": null,
   "id": "special-closer",
   "metadata": {},
   "outputs": [],
   "source": [
    "using RSDeltaSigmaPort\n",
    "j=im\n",
    ":READY"
   ]
  },
  {
   "cell_type": "markdown",
   "id": "confused-entry",
   "metadata": {},
   "source": [
    "# NTF synthesis-- 5th-order modulator"
   ]
  },
  {
   "cell_type": "code",
   "execution_count": null,
   "id": "minimal-penetration",
   "metadata": {},
   "outputs": [],
   "source": [
    "OSR = 32\n",
    "NTF5_noopt = synthesizeNTF(5, OSR, opt=0)\n",
    "plot = plotNTF(NTF5_noopt, OSR, color=:blue)\n",
    "plot.title = \"5th-Order Modulator\"\n",
    "inlinedisp(plot, AR=2/1)"
   ]
  },
  {
   "cell_type": "markdown",
   "id": "coastal-vertical",
   "metadata": {},
   "source": [
    "# NTF synthesis-- 5th-order modulator (optimized zeros)"
   ]
  },
  {
   "cell_type": "code",
   "execution_count": null,
   "id": "secondary-currency",
   "metadata": {},
   "outputs": [],
   "source": [
    "OSR = 32\n",
    "NTF5_opt = synthesizeNTF(5, OSR, opt=1)\n",
    "plot = plotNTF(NTF5_opt, OSR, color=:red)\n",
    "plot.title = \"5th-Order Modulator (Optimized Zeros)\"\n",
    "inlinedisp(plot, AR=2/1)"
   ]
  },
  {
   "cell_type": "markdown",
   "id": "adjusted-logistics",
   "metadata": {},
   "source": [
    "# NTF synthesis-- 5th-order modulator (Comparison)¶"
   ]
  },
  {
   "cell_type": "code",
   "execution_count": null,
   "id": "domestic-rehabilitation",
   "metadata": {
    "scrolled": false
   },
   "outputs": [],
   "source": [
    "OSR = 32\n",
    "plot = plotNTF(NTF5_noopt, OSR, color=:blue)\n",
    "plot = plotNTF!(plot, NTF5_opt, OSR, color=:red)\n",
    "plot.title = \"5th-Order Modulator (Optimized Zeros - Overlay)\"\n",
    "inlinedisp(plot, AR=2/1)"
   ]
  },
  {
   "cell_type": "markdown",
   "id": "protected-chess",
   "metadata": {},
   "source": [
    "# NTF synthesis-- 8th-order bandpass modulator"
   ]
  },
  {
   "cell_type": "code",
   "execution_count": null,
   "id": "infectious-stable",
   "metadata": {},
   "outputs": [],
   "source": [
    "OSR = 64\n",
    "order = 8\n",
    "f0 = 0.125 #fs/8\n",
    "\n",
    "NTF8bp_opt2 = synthesizeNTF(order, OSR, opt=2, f0=f0)\n",
    "function gainNTF(order, OSR, NTF)\n",
    "\tG = _zpk(zeros(array_round(order/2)),NTF.p,1,1)\n",
    "\tG.k = 1/abs(evalTF(G,exp(2π*j*f0)))\n",
    "\treturn G\n",
    "end\n",
    "G = gainNTF(order, OSR, NTF8bp_opt2)\n",
    "plot = plotNTF(NTF8bp_opt2, OSR, color=:blue, f0=f0, G=G)\n",
    "plot.title = \"8th-Order Bandpass Modulator\"\n",
    "inlinedisp(plot, AR=2/1)"
   ]
  },
  {
   "cell_type": "markdown",
   "id": "chinese-wholesale",
   "metadata": {},
   "source": [
    "# DONE"
   ]
  }
 ],
 "metadata": {
  "@webio": {
   "lastCommId": "6fcaee80d3714f148cc65729f51d1d4f",
   "lastKernelId": "9d74474f-9b62-4487-872c-d3513709f80e"
  },
  "kernelspec": {
   "display_name": "Julia 1.5.3",
   "language": "julia",
   "name": "julia-1.5"
  },
  "language_info": {
   "file_extension": ".jl",
   "mimetype": "application/julia",
   "name": "julia",
   "version": "1.5.3"
  }
 },
 "nbformat": 4,
 "nbformat_minor": 5
}
