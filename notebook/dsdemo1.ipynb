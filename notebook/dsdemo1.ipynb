{
 "cells": [
  {
   "cell_type": "markdown",
   "id": "gorgeous-belle",
   "metadata": {},
   "source": [
    "### Query environment"
   ]
  },
  {
   "cell_type": "code",
   "execution_count": null,
   "id": "alpha-ballot",
   "metadata": {},
   "outputs": [],
   "source": [
    "#Be aware of your Jupyter environment stack:\n",
    "display(Base.load_path())"
   ]
  },
  {
   "cell_type": "markdown",
   "id": "ancient-candle",
   "metadata": {},
   "source": [
    "# Demonstrate NTF synthesis (synthesizeNTF)\n",
    "### Setup environment"
   ]
  },
  {
   "cell_type": "code",
   "execution_count": null,
   "id": "special-closer",
   "metadata": {},
   "outputs": [],
   "source": [
    "using RSDeltaSigmaPort\n",
    "j=im\n",
    ":READY"
   ]
  },
  {
   "cell_type": "markdown",
   "id": "strong-jackson",
   "metadata": {},
   "source": [
    "# 5th order, 2-level, baseband modulator"
   ]
  },
  {
   "cell_type": "markdown",
   "id": "confused-entry",
   "metadata": {},
   "source": [
    "### NTF synthesis without zero-optimization"
   ]
  },
  {
   "cell_type": "code",
   "execution_count": null,
   "id": "minimal-penetration",
   "metadata": {},
   "outputs": [],
   "source": [
    "OSR = 32\n",
    "NTF_noopt = synthesizeNTF(5, OSR, opt=0)\n",
    "plot = plotNTF(NTF_noopt, OSR, color=:blue)\n",
    "plot.title = \"5th-Order Modulator (No Zero-Optimization)\"\n",
    "inlinedisp(plot, AR=2/1)"
   ]
  },
  {
   "cell_type": "markdown",
   "id": "coastal-vertical",
   "metadata": {},
   "source": [
    "### NTF synthesis with optimized zeros"
   ]
  },
  {
   "cell_type": "code",
   "execution_count": null,
   "id": "secondary-currency",
   "metadata": {},
   "outputs": [],
   "source": [
    "OSR = 32\n",
    "NTF_opt = synthesizeNTF(5, OSR, opt=1)\n",
    "plot = plotNTF(NTF_opt, OSR, color=:red)\n",
    "plot.title = \"5th-Order Modulator (Optimized Zeros)\"\n",
    "inlinedisp(plot, AR=2/1)"
   ]
  },
  {
   "cell_type": "markdown",
   "id": "adjusted-logistics",
   "metadata": {},
   "source": [
    "### NTF synthesis: comparison w.r.t. zero optimization (overlay results)"
   ]
  },
  {
   "cell_type": "code",
   "execution_count": null,
   "id": "domestic-rehabilitation",
   "metadata": {
    "scrolled": false
   },
   "outputs": [],
   "source": [
    "OSR = 32\n",
    "plot = plotNTF(NTF_noopt, OSR, color=:blue)\n",
    "plot = plotNTF!(plot, NTF_opt, OSR, color=:red)\n",
    "plot.title = \"5th-Order Modulator (Optimized Zeros - Overlay)\"\n",
    "inlinedisp(plot, AR=2/1)"
   ]
  },
  {
   "cell_type": "markdown",
   "id": "protected-chess",
   "metadata": {},
   "source": [
    "# 8th order, 2-level, bandpass modulator\n",
    "### NTF synthesis without zero-optimization"
   ]
  },
  {
   "cell_type": "code",
   "execution_count": null,
   "id": "infectious-stable",
   "metadata": {},
   "outputs": [],
   "source": [
    "OSR = 64\n",
    "order = 8\n",
    "f0 = 0.125 #fs/8\n",
    "\n",
    "function calcSTF(order, OSR, NTF, f0)\n",
    "\tG = _zpk(zeros(array_round(order/2)),NTF.p,1,1)\n",
    "\tG.k = 1/abs(evalTF(G,exp(2π*j*f0)))\n",
    "\treturn G\n",
    "end\n",
    "\n",
    "NTF = synthesizeNTF(order, OSR, opt=2, f0=f0)\n",
    "STF = calcSTF(order, OSR, NTF, f0)\n",
    "plot = plotNTF(NTF, OSR, color=:blue, f0=f0, STF=STF)\n",
    "plot.title = \"8th-Order Bandpass Modulator\"\n",
    "inlinedisp(plot, AR=2/1)"
   ]
  },
  {
   "cell_type": "markdown",
   "id": "chinese-wholesale",
   "metadata": {},
   "source": [
    "# DONE"
   ]
  }
 ],
 "metadata": {
  "@webio": {
   "lastCommId": "14fa80718454452e87e08b2a6d10edfd",
   "lastKernelId": "81663ea3-8d30-4de7-8bc5-945ccc8d24ec"
  },
  "kernelspec": {
   "display_name": "Julia 1.6.0",
   "language": "julia",
   "name": "julia-1.6"
  },
  "language_info": {
   "file_extension": ".jl",
   "mimetype": "application/julia",
   "name": "julia",
   "version": "1.6.0"
  }
 },
 "nbformat": 4,
 "nbformat_minor": 5
}
