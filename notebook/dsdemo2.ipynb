{
 "cells": [
  {
   "cell_type": "markdown",
   "id": "gorgeous-belle",
   "metadata": {},
   "source": [
    "### Query environment"
   ]
  },
  {
   "cell_type": "code",
   "execution_count": null,
   "id": "alpha-ballot",
   "metadata": {},
   "outputs": [],
   "source": [
    "#Be aware of your Jupyter environment stack:\n",
    "display(Base.load_path())"
   ]
  },
  {
   "cell_type": "markdown",
   "id": "ancient-candle",
   "metadata": {},
   "source": [
    "# Demonstrate simulateDSM, (simulateSNR and predictSNR) &rArr; plotSNR\n",
    "### Setup environment"
   ]
  },
  {
   "cell_type": "code",
   "execution_count": null,
   "id": "special-closer",
   "metadata": {},
   "outputs": [],
   "source": [
    "using RSDeltaSigmaPort\n",
    "using RSDeltaSigmaPort.EasyPlot #set, cons\n",
    "import RSDeltaSigmaPort: BoundingBox\n",
    "import Printf: @sprintf\n",
    "j=im\n",
    ":READY"
   ]
  },
  {
   "cell_type": "markdown",
   "id": "confused-entry",
   "metadata": {},
   "source": [
    "# 5th order, 2-level, baseband modulator"
   ]
  },
  {
   "cell_type": "code",
   "execution_count": null,
   "id": "induced-polymer",
   "metadata": {},
   "outputs": [],
   "source": [
    "OSR = 32\n",
    "N = 8192\n",
    "\n",
    "println(\"Performing ΔΣ simulation...\"); flush(stdout)\n",
    "#-------------------------------------------------------------------------------\n",
    "fB = ceil(Int, N/(2*OSR)); ftest=floor(Int, 2/3*fB)\n",
    "u = 0.5*sin.(2π*ftest/N * (0:N-1)) # half-scale sine-wave input\n",
    "NTF = synthesizeNTF(5, OSR, opt=1)\n",
    "v,xn,xmax,y = simulateDSM(u, NTF)\n",
    "println(\"\\tdone.\"); flush(stdout)\n",
    "\n",
    "#Plot modulator signals\n",
    "#-------------------------------------------------------------------------------\n",
    "plot = plotModTransient(u, v, y)\n",
    "\tset(plot, xyaxes=set(xmin=0, xmax=300, ymin=-1.2, ymax=1.2))\n",
    "inlinedisp(plot, AR=2/1)\n",
    "\n",
    "#Plot output spectrum (simulated vs theory)\"\n",
    "#-------------------------------------------------------------------------------\n",
    "plot = plotModSpectrum(v, NTF, 3:fB+1, ftest-2,\n",
    "\ttitle=\"Modulator Output Spectrum @ OSR = $OSR.\"\n",
    ")\n",
    "inlinedisp(plot, AR=2/1)\n",
    "\n",
    "#Plot SNR vs input power\n",
    "plot = plotSNR(v, NTF, OSR,\n",
    "\ttitle=\"SNR curve- theory and simulation\"\n",
    ")\n",
    "inlinedisp(plot, AR=2/1)"
   ]
  },
  {
   "cell_type": "markdown",
   "id": "suspected-position",
   "metadata": {},
   "source": [
    "# 8th order, 2-level, bandpass modulator"
   ]
  },
  {
   "cell_type": "code",
   "execution_count": null,
   "id": "imperial-scottish",
   "metadata": {},
   "outputs": [],
   "source": [
    "OSR=64\n",
    "f0 = 1/8\n",
    "N = 8192\n",
    "\n",
    "println(\"Performing ΔΣ simulation...\"); flush(stdout)\n",
    "#-------------------------------------------------------------------------------\n",
    "fB = ceil(Int, N/(2*OSR)); ftest=round(Int, f0*N + 1/3*fB)\n",
    "u = 0.5*sin.(2π*ftest/N * (0:N-1)) #half-scale sine-wave input\n",
    "NTF = synthesizeNTF(8, OSR, opt=1, f0=f0)\n",
    "v,xn,xmax,y = simulateDSM(u, NTF)\n",
    "println(\"\\tdone.\"); flush(stdout)\n",
    "\n",
    "#Plot modulator signals\n",
    "#-------------------------------------------------------------------------------\n",
    "plot = plotModTransient(u, v, y)\n",
    "\tset(plot, xyaxes=set(xmin=0, xmax=300, ymin=-1.2, ymax=1.2))\n",
    "inlinedisp(plot, AR=2/1)\n",
    "\n",
    "#Plot output spectrum (simulated vs theory)\n",
    "#-------------------------------------------------------------------------------\n",
    "f1 = round(Int, (f0-0.25/OSR)*N)\n",
    "f2 = round(Int, (f0+0.25/OSR)*N)\n",
    "plot = plotModSpectrum(v, NTF, f1:f2, ftest-f1+1,\n",
    "\ttitle=\"Modulator Output Spectrum @ OSR = $OSR.\"\n",
    ")\n",
    "inlinedisp(plot, AR=2/1)\n",
    "\n",
    "#Plot SNR vs input power\n",
    "plot = plotSNR(v, NTF, OSR, f0=f0,\n",
    "\ttitle=\"SNR curve- theory and simulation\"\n",
    ")\n",
    "inlinedisp(plot, AR=2/1)"
   ]
  },
  {
   "cell_type": "markdown",
   "id": "closing-guatemala",
   "metadata": {},
   "source": [
    "# 7th order, 15-step, baseband modulator"
   ]
  },
  {
   "cell_type": "code",
   "execution_count": null,
   "id": "lasting-warrant",
   "metadata": {},
   "outputs": [],
   "source": [
    "OSR = 8\n",
    "M = 16\n",
    "N = 8192\n",
    "Hinf_list = [2.0, 8.0]\n",
    "color_list = [:blue, :green]\n",
    "\n",
    "println(\"Performing ΔΣ simulation for H(∞)=$(Hinf_list)...\"); flush(stdout)\n",
    "#-------------------------------------------------------------------------------\n",
    "id_list = [@sprintf(\"H(∞)=%.1f\", Hinf) for Hinf in Hinf_list]\n",
    "fB = ceil(Int, N/(2*OSR)); ftest = floor(Int, 2/7*fB)\n",
    "u = 0.5*M*sin.(2π*ftest/N * (0:N-1)) #half-scale sine-wave input\n",
    "NTF = [synthesizeNTF(7, OSR, opt=1, H_inf=Hinf) for Hinf in Hinf_list]\n",
    "v = [simulateDSM(u, H, M+1)[1] for H in NTF] #simulateDSM(..)[1] is mod output, v.\n",
    "println(\"\\tdone.\"); flush(stdout)\n",
    "\n",
    "#Plot input/output characteristics of ΔΣ simulations\n",
    "#-------------------------------------------------------------------------------\n",
    "ioplotc = cons(:plot_collection, title=\"15-step / 7th-order / H(∞)=$(Hinf_list)\")\n",
    "\n",
    "#Plot input & output transients:\n",
    "for i in keys(v) #Each simulated output\n",
    "\tlocal plot = plotModTransient(u, v[i], color=color_list[i], legend=false)\n",
    "\t\tset(plot, xyaxes=set(xmin=0, xmax=100, ymin=-16, ymax=16))\n",
    "\tpush!(ioplotc, plot)\n",
    "end\n",
    "\n",
    "#Append SNR vs input curves:\n",
    "plot = plotSNR(v, NTF[1], OSR, nlev=M+1, color=color_list[1], legend=false, title=\"SQNR\")\n",
    "plotSNR!(plot, v, NTF[2], OSR, nlev=M+1, color=color_list[2])\n",
    "\tset(plot, xyaxes=set(xmin=-100, xmax=0, ymin=0, ymax=120))\n",
    "push!(ioplotc, plot)\n",
    "\n",
    "#Specify plot locations to help readability:\n",
    "ioplotc.bblist = [ #Format plot locations\n",
    "\tBoundingBox(0, 0.5, 0, 0.5), #1st modulator transient\n",
    "\tBoundingBox(0, 0.5, 0.5, 1), #2nd modulator transient\n",
    "\tBoundingBox(0.5, 1, 0, 1), #SNR curve\n",
    "]\n",
    "inlinedisp(ioplotc, AR=2/1)\n",
    "\n",
    "#Plot output spectrum (simulated vs theory)\n",
    "#-------------------------------------------------------------------------------\n",
    "plot = plotModSpectrum(title=\"Modulator Output Spectrum @ OSR = $OSR.\")\n",
    "\tset(plot, xyaxes=set(ymin=-160))\n",
    "for i in keys(NTF)\n",
    "\tplotModSpectrum!(plot, v[i], NTF[i], 3:fB+1, ftest-2, sp2p=1.0*M,\n",
    "\t\tid=id_list[i], color=color_list[i]\n",
    "\t)\n",
    "end\n",
    "inlinedisp(plot, AR=2/1)"
   ]
  },
  {
   "cell_type": "markdown",
   "id": "chinese-wholesale",
   "metadata": {},
   "source": [
    "# DONE"
   ]
  }
 ],
 "metadata": {
  "@webio": {
   "lastCommId": "e2cd54a03f4440a281aa14977e44f502",
   "lastKernelId": "0b1b08f2-6205-4403-a485-1aa4fa75c6cf"
  },
  "kernelspec": {
   "display_name": "Julia 1.6.0",
   "language": "julia",
   "name": "julia-1.6"
  },
  "language_info": {
   "file_extension": ".jl",
   "mimetype": "application/julia",
   "name": "julia",
   "version": "1.6.0"
  }
 },
 "nbformat": 4,
 "nbformat_minor": 5
}
