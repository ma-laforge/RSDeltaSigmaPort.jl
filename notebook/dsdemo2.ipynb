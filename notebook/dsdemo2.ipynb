{
 "cells": [
  {
   "cell_type": "markdown",
   "id": "gorgeous-belle",
   "metadata": {},
   "source": [
    "# Query environment"
   ]
  },
  {
   "cell_type": "code",
   "execution_count": null,
   "id": "alpha-ballot",
   "metadata": {},
   "outputs": [],
   "source": [
    "#Be aware of your Jupyter environment stack:\n",
    "display(Base.load_path())"
   ]
  },
  {
   "cell_type": "markdown",
   "id": "ancient-candle",
   "metadata": {},
   "source": [
    "# Setup environment"
   ]
  },
  {
   "cell_type": "code",
   "execution_count": null,
   "id": "special-closer",
   "metadata": {},
   "outputs": [],
   "source": [
    "using RSDeltaSigmaPort\n",
    "j=im\n",
    ":READY"
   ]
  },
  {
   "cell_type": "markdown",
   "id": "confused-entry",
   "metadata": {},
   "source": [
    "# Discrete-Time Simulation"
   ]
  },
  {
   "cell_type": "code",
   "execution_count": null,
   "id": "induced-polymer",
   "metadata": {},
   "outputs": [],
   "source": [
    "OSR = 32\n",
    "N = 8192\n",
    "NTF = synthesizeNTF(5, OSR, opt=1)\n",
    "fB = ceil(N/(2*OSR)); ftest=floor(2/3*fB)\n",
    "u = 0.5*sin.(2π*ftest/N*collect(0:N-1)) # half-scale sine-wave input\n",
    "\n",
    "println(\"Starting simulation...\"); flush(stdout); flush(stderr)\n",
    "v,xn,xmax,y = simulateDSM(u,NTF)\n",
    "println(\"\\tdone.\")\n",
    "\n",
    "println(\"Ploting modulator signals...\"); flush(stdout); flush(stderr)\n",
    "plot = plotModTransient(u, v, y)\n",
    "inlinedisp(plot, AR=2/1)\n",
    "\n",
    "println(\"Plotting spectrum of modulator output, v...\"); flush(stdout); flush(stderr)\n",
    "plot = RSDeltaSigmaPort.plotModSpectrum(v, NTF, Int(fB), Int(ftest-2),\n",
    "\ttitle=\"Modulator Output Spectrum @ OSR = $OSR.\"\n",
    ")\n",
    "inlinedisp(plot, AR=2/1)"
   ]
  },
  {
   "cell_type": "markdown",
   "id": "chinese-wholesale",
   "metadata": {},
   "source": [
    "# DONE"
   ]
  }
 ],
 "metadata": {
  "@webio": {
   "lastCommId": "e8dcf1c44c5541f59c0910a6ec9b7d1b",
   "lastKernelId": "20ad8198-70a4-49ee-b340-cd8fbf8b55ef"
  },
  "kernelspec": {
   "display_name": "Julia 1.5.3",
   "language": "julia",
   "name": "julia-1.5"
  },
  "language_info": {
   "file_extension": ".jl",
   "mimetype": "application/julia",
   "name": "julia",
   "version": "1.5.3"
  }
 },
 "nbformat": 4,
 "nbformat_minor": 5
}
